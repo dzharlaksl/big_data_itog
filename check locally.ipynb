{
 "cells": [
  {
   "cell_type": "markdown",
   "metadata": {},
   "source": [
    "Cheking code in notebook locally:\n",
    "inport libraries\n",
    "upload data from profit_table.csv\n",
    "chech transform function\n",
    "Result must be a table with activity flags\n",
    "\\Succ. DONE\\\n"
   ]
  },
  {
   "cell_type": "code",
   "execution_count": 1,
   "metadata": {},
   "outputs": [
    {
     "name": "stderr",
     "output_type": "stream",
     "text": [
      "/home/dzharlaksl/Documents/URFU/3 семестр/big_data_itog/transform_script.py:16: FutureWarning: 'M' is deprecated and will be removed in a future version, please use 'ME' instead.\n",
      "  date_list = pd.date_range(\n",
      "100%|██████████| 10/10 [00:07<00:00,  1.36it/s]"
     ]
    },
    {
     "name": "stdout",
     "output_type": "stream",
     "text": [
      "        id  flag_a  flag_b  flag_c  flag_d  flag_e  flag_f  flag_g  flag_h  \\\n",
      "0  C00144K       1       0       0       0       0       0       0       0   \n",
      "1  C00194K       1       0       1       0       0       0       0       1   \n",
      "2  C00277K       1       0       0       0       0       0       0       0   \n",
      "3  C00290K       1       0       0       0       0       0       0       0   \n",
      "4  C00718K       1       0       0       0       0       0       0       0   \n",
      "\n",
      "   flag_i  flag_j  \n",
      "0       0       0  \n",
      "1       0       0  \n",
      "2       0       0  \n",
      "3       0       0  \n",
      "4       0       0  \n"
     ]
    },
    {
     "name": "stderr",
     "output_type": "stream",
     "text": [
      "\n"
     ]
    }
   ],
   "source": [
    "import pandas as pd\n",
    "from transform_script import transfrom\n",
    "\n",
    "profit_table = pd.read_csv('profit_table.csv')\n",
    "\n",
    "flags_activity = transfrom(profit_table, '2024-03-01')\n",
    "print(flags_activity.head())"
   ]
  }
 ],
 "metadata": {
  "kernelspec": {
   "display_name": ".venv",
   "language": "python",
   "name": "python3"
  },
  "language_info": {
   "codemirror_mode": {
    "name": "ipython",
    "version": 3
   },
   "file_extension": ".py",
   "mimetype": "text/x-python",
   "name": "python",
   "nbconvert_exporter": "python",
   "pygments_lexer": "ipython3",
   "version": "3.12.7"
  }
 },
 "nbformat": 4,
 "nbformat_minor": 2
}
